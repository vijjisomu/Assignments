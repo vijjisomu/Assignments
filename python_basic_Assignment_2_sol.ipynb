{
 "cells": [
  {
   "cell_type": "code",
   "execution_count": 3,
   "id": "d50ff6d2",
   "metadata": {},
   "outputs": [
    {
     "name": "stdout",
     "output_type": "stream",
     "text": [
      "Enter the degrees of celsius 34\n",
      "34 celsius is equal to 93.2 Fahrenheit\n"
     ]
    }
   ],
   "source": [
    "celsius=int(input(\"Enter the degrees of celsius \"))\n",
    "def celsius_Fahrenheit(celsius):\n",
    "    return ((celsius* 9/5) + 32)\n",
    "fahrenheit=celsius_Fahrenheit(celsius)\n",
    "print(\"{} celsius is equal to {} Fahrenheit\".format(celsius,fahrenheit))"
   ]
  },
  {
   "cell_type": "code",
   "execution_count": 10,
   "id": "94545d6d",
   "metadata": {},
   "outputs": [
    {
     "name": "stdout",
     "output_type": "stream",
     "text": [
      "Enter the month:445\n",
      "Enter the year:6666\n",
      "Invalid month Please Enter the month value between 1 and 12\n"
     ]
    }
   ],
   "source": [
    "import calendar\n",
    "mm=int(input(\"Enter the month:\"))\n",
    "yy=int(input(\"Enter the year:\"))\n",
    "if mm<=12:\n",
    "    print(calendar.month(yy,mm))\n",
    "else:\n",
    "    print(\"Invalid month Please Enter the month value between 1 and 12\")"
   ]
  },
  {
   "cell_type": "code",
   "execution_count": 22,
   "id": "bf05b32f",
   "metadata": {},
   "outputs": [
    {
     "name": "stdout",
     "output_type": "stream",
     "text": [
      "Enter the square coefficient 4\n",
      "Enter the second coefficient 5\n",
      "Enter the constant6\n",
      "-71\n",
      "[0.4282687216470449, -1.6782687216470449]\n"
     ]
    }
   ],
   "source": [
    "import math\n",
    "\n",
    "a=int(input(\"Enter the first coefficient \"))\n",
    "b=int(input(\"Enter the second coefficient \"))\n",
    "c=int(input(\"Enter the constant\"))\n",
    "def quad_sol(a,b,c):\n",
    "    i=b*b\n",
    "    j=i-(4*a*c)\n",
    "    return [(-b+(math.sqrt(abs(j))))/(2*a),(-b-(math.sqrt(abs(j))))/(2*a)]\n",
    "            \n",
    "x=quad_sol(a,b,c)\n",
    "print(x)\n"
   ]
  },
  {
   "cell_type": "code",
   "execution_count": 28,
   "id": "1c27efa2",
   "metadata": {},
   "outputs": [
    {
     "name": "stdout",
     "output_type": "stream",
     "text": [
      "Enter the first number:45\n",
      "Enter the second number:6\n",
      "[6, 45]\n"
     ]
    }
   ],
   "source": [
    "a=int(input(\"Enter the first number:\"))\n",
    "b=int(input(\"Enter the second number:\"))\n",
    "def swap(a,b):\n",
    "    b=a+b\n",
    "    a=b-a\n",
    "    b=b-a\n",
    "    return[a,b]\n",
    "s=list(swap(a,b))\n",
    "print(s)"
   ]
  },
  {
   "cell_type": "code",
   "execution_count": null,
   "id": "e2348ea0",
   "metadata": {},
   "outputs": [],
   "source": []
  }
 ],
 "metadata": {
  "kernelspec": {
   "display_name": "Python 3",
   "language": "python",
   "name": "python3"
  },
  "language_info": {
   "codemirror_mode": {
    "name": "ipython",
    "version": 3
   },
   "file_extension": ".py",
   "mimetype": "text/x-python",
   "name": "python",
   "nbconvert_exporter": "python",
   "pygments_lexer": "ipython3",
   "version": "3.8.8"
  }
 },
 "nbformat": 4,
 "nbformat_minor": 5
}

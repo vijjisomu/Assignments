{
 "cells": [
  {
   "cell_type": "code",
   "execution_count": 1,
   "id": "b993fcde",
   "metadata": {},
   "outputs": [
    {
     "name": "stdout",
     "output_type": "stream",
     "text": [
      "Enter the number to get Factorial:5\n",
      "The factorial of 5 is 120\n"
     ]
    }
   ],
   "source": [
    "num=int(input(\"Enter the number to get Factorial:\"))\n",
    "def fact(num):\n",
    "    m=1\n",
    "    for i in range(1,num+1):\n",
    "        n=i*m\n",
    "        m=n\n",
    "    return n\n",
    "n=fact(num)\n",
    "print(\"The factorial of {} is {}\".format(num,n))"
   ]
  },
  {
   "cell_type": "code",
   "execution_count": 2,
   "id": "20bce03f",
   "metadata": {},
   "outputs": [
    {
     "name": "stdout",
     "output_type": "stream",
     "text": [
      "Enter the number to get the multiplication table:6\n",
      "6 * 1 = 6\n",
      "6 * 2 = 12\n",
      "6 * 3 = 18\n",
      "6 * 4 = 24\n",
      "6 * 5 = 30\n",
      "6 * 6 = 36\n",
      "6 * 7 = 42\n",
      "6 * 8 = 48\n",
      "6 * 9 = 54\n",
      "6 * 10 = 60\n"
     ]
    }
   ],
   "source": [
    "num=int(input(\"Enter the number to get the multiplication table:\"))\n",
    "def mul_tbl(num):\n",
    "    for i in range(1,11):\n",
    "        print(\"{} * {} = {}\".format(num,i,(num*i)))\n",
    "n=mul_tbl(num)"
   ]
  },
  {
   "cell_type": "code",
   "execution_count": 3,
   "id": "91ae8d5a",
   "metadata": {},
   "outputs": [
    {
     "name": "stdout",
     "output_type": "stream",
     "text": [
      "Enter till which number you want fibonacci series:5\n",
      "[0, 1, 1, 2, 3, 5]\n"
     ]
    }
   ],
   "source": [
    "num=int(input(\"Enter till which number you want fibonacci series:\"))\n",
    "def fib(num):\n",
    "    l=[1]\n",
    "    for i in range(0,num-2):\n",
    "        i=l[i]+l[i-1]\n",
    "        l.append(i)\n",
    "    l.insert(0,0)\n",
    "    l.insert(1,1)\n",
    "    print(l)\n",
    "n=fib(num)"
   ]
  },
  {
   "cell_type": "code",
   "execution_count": 46,
   "id": "cad5bb4e",
   "metadata": {},
   "outputs": [
    {
     "name": "stdout",
     "output_type": "stream",
     "text": [
      "Enter till which number you want to check Whther it is amstrong number or not:153\n",
      "Given number is a armstrong number\n"
     ]
    }
   ],
   "source": [
    "num=int(input(\"Enter till which number you want to check Whther it is amstrong number or not:\"))\n",
    "def arm(num):\n",
    "    x=0\n",
    "    temp=num\n",
    "    while num>0:\n",
    "        n=num%10\n",
    "        num//=10\n",
    "        m=(n*n*n)\n",
    "        x=x+m\n",
    "    if x==temp:\n",
    "        print(\"Given number is a armstrong number\")\n",
    "    else:\n",
    "        print(\"Given number is not a armstrong number\")\n",
    "n=arm(num)"
   ]
  },
  {
   "cell_type": "code",
   "execution_count": 52,
   "id": "1d0a397e",
   "metadata": {},
   "outputs": [
    {
     "name": "stdout",
     "output_type": "stream",
     "text": [
      "Enter the first number in the range which you want amstrong numbers:5\n",
      "Enter the second number in the range which you want amstrong numbers:155\n",
      "153\n"
     ]
    }
   ],
   "source": [
    "num1=int(input(\"Enter the first number in the range which you want amstrong numbers:\"))\n",
    "num2=int(input(\"Enter the second number in the range which you want amstrong numbers:\"))\n",
    "for i in range(num1,num2):\n",
    "    x=0\n",
    "    temp=i\n",
    "    while i>0:\n",
    "        n=i%10\n",
    "        i//=10\n",
    "        m=(n*n*n)\n",
    "        x=x+m\n",
    "    if x==temp:\n",
    "        print(x)\n",
    "    "
   ]
  },
  {
   "cell_type": "code",
   "execution_count": 54,
   "id": "916193ea",
   "metadata": {},
   "outputs": [
    {
     "name": "stdout",
     "output_type": "stream",
     "text": [
      "Enter the first number in addition:55\n",
      "Enter the second number in addition:44\n",
      "The addition of 55 and 44 is 99\n"
     ]
    }
   ],
   "source": [
    "num1=int(input(\"Enter the first number in addition:\"))\n",
    "num2=int(input(\"Enter the second number in addition:\"))\n",
    "def sum(num1,num2):\n",
    "    return(num1+num2)\n",
    "n=sum(num1,num2)\n",
    "print(\"The addition of {} and {} is {}\".format(num1,num2,n))"
   ]
  }
 ],
 "metadata": {
  "kernelspec": {
   "display_name": "Python 3",
   "language": "python",
   "name": "python3"
  },
  "language_info": {
   "codemirror_mode": {
    "name": "ipython",
    "version": 3
   },
   "file_extension": ".py",
   "mimetype": "text/x-python",
   "name": "python",
   "nbconvert_exporter": "python",
   "pygments_lexer": "ipython3",
   "version": "3.8.8"
  }
 },
 "nbformat": 4,
 "nbformat_minor": 5
}
